{
 "cells": [
  {
   "cell_type": "markdown",
   "id": "8dbc1083",
   "metadata": {
    "id": "V2_Q0FSAXe9P",
    "papermill": {
     "duration": 0.005557,
     "end_time": "2025-09-08T10:30:52.881948",
     "exception": false,
     "start_time": "2025-09-08T10:30:52.876391",
     "status": "completed"
    },
    "tags": []
   },
   "source": [
    "Importing dependencies"
   ]
  },
  {
   "cell_type": "code",
   "execution_count": 1,
   "id": "011016d8",
   "metadata": {
    "execution": {
     "iopub.execute_input": "2025-09-08T10:30:52.892187Z",
     "iopub.status.busy": "2025-09-08T10:30:52.891963Z",
     "iopub.status.idle": "2025-09-08T10:30:55.999130Z",
     "shell.execute_reply": "2025-09-08T10:30:55.998557Z"
    },
    "id": "W445ohDXX8ts",
    "papermill": {
     "duration": 3.113586,
     "end_time": "2025-09-08T10:30:56.000373",
     "exception": false,
     "start_time": "2025-09-08T10:30:52.886787",
     "status": "completed"
    },
    "tags": []
   },
   "outputs": [],
   "source": [
    "import numpy as np\n",
    "import pandas as pd\n",
    "import re\n",
    "from nltk.corpus import stopwords\n",
    "from nltk.stem.porter import PorterStemmer\n",
    "from sklearn.feature_extraction.text import TfidfVectorizer\n",
    "from sklearn.model_selection import train_test_split\n",
    "from sklearn.linear_model import LogisticRegression\n",
    "from sklearn.metrics import accuracy_score"
   ]
  },
  {
   "cell_type": "code",
   "execution_count": 2,
   "id": "28f2fbf8",
   "metadata": {
    "execution": {
     "iopub.execute_input": "2025-09-08T10:30:56.011394Z",
     "iopub.status.busy": "2025-09-08T10:30:56.010745Z",
     "iopub.status.idle": "2025-09-08T10:30:56.088795Z",
     "shell.execute_reply": "2025-09-08T10:30:56.088043Z"
    },
    "id": "0febx7TfYCtE",
    "outputId": "a797bdd3-8f39-4013-db6a-5320dd26806d",
    "papermill": {
     "duration": 0.084395,
     "end_time": "2025-09-08T10:30:56.089967",
     "exception": false,
     "start_time": "2025-09-08T10:30:56.005572",
     "status": "completed"
    },
    "tags": []
   },
   "outputs": [
    {
     "name": "stderr",
     "output_type": "stream",
     "text": [
      "[nltk_data] Downloading package stopwords to /usr/share/nltk_data...\n",
      "[nltk_data]   Package stopwords is already up-to-date!\n"
     ]
    },
    {
     "data": {
      "text/plain": [
       "True"
      ]
     },
     "execution_count": 2,
     "metadata": {},
     "output_type": "execute_result"
    }
   ],
   "source": [
    "import nltk\n",
    "nltk.download('stopwords')"
   ]
  },
  {
   "cell_type": "code",
   "execution_count": 3,
   "id": "36238be8",
   "metadata": {
    "execution": {
     "iopub.execute_input": "2025-09-08T10:30:56.100497Z",
     "iopub.status.busy": "2025-09-08T10:30:56.100124Z",
     "iopub.status.idle": "2025-09-08T10:30:56.105798Z",
     "shell.execute_reply": "2025-09-08T10:30:56.105143Z"
    },
    "id": "fi_F1DCbYefU",
    "outputId": "09862ae6-5e67-4b18-d904-3d27bf3757d5",
    "papermill": {
     "duration": 0.012038,
     "end_time": "2025-09-08T10:30:56.106885",
     "exception": false,
     "start_time": "2025-09-08T10:30:56.094847",
     "status": "completed"
    },
    "tags": []
   },
   "outputs": [
    {
     "name": "stdout",
     "output_type": "stream",
     "text": [
      "['a', 'about', 'above', 'after', 'again', 'against', 'ain', 'all', 'am', 'an', 'and', 'any', 'are', 'aren', \"aren't\", 'as', 'at', 'be', 'because', 'been', 'before', 'being', 'below', 'between', 'both', 'but', 'by', 'can', 'couldn', \"couldn't\", 'd', 'did', 'didn', \"didn't\", 'do', 'does', 'doesn', \"doesn't\", 'doing', 'don', \"don't\", 'down', 'during', 'each', 'few', 'for', 'from', 'further', 'had', 'hadn', \"hadn't\", 'has', 'hasn', \"hasn't\", 'have', 'haven', \"haven't\", 'having', 'he', \"he'd\", \"he'll\", 'her', 'here', 'hers', 'herself', \"he's\", 'him', 'himself', 'his', 'how', 'i', \"i'd\", 'if', \"i'll\", \"i'm\", 'in', 'into', 'is', 'isn', \"isn't\", 'it', \"it'd\", \"it'll\", \"it's\", 'its', 'itself', \"i've\", 'just', 'll', 'm', 'ma', 'me', 'mightn', \"mightn't\", 'more', 'most', 'mustn', \"mustn't\", 'my', 'myself', 'needn', \"needn't\", 'no', 'nor', 'not', 'now', 'o', 'of', 'off', 'on', 'once', 'only', 'or', 'other', 'our', 'ours', 'ourselves', 'out', 'over', 'own', 're', 's', 'same', 'shan', \"shan't\", 'she', \"she'd\", \"she'll\", \"she's\", 'should', 'shouldn', \"shouldn't\", \"should've\", 'so', 'some', 'such', 't', 'than', 'that', \"that'll\", 'the', 'their', 'theirs', 'them', 'themselves', 'then', 'there', 'these', 'they', \"they'd\", \"they'll\", \"they're\", \"they've\", 'this', 'those', 'through', 'to', 'too', 'under', 'until', 'up', 've', 'very', 'was', 'wasn', \"wasn't\", 'we', \"we'd\", \"we'll\", \"we're\", 'were', 'weren', \"weren't\", \"we've\", 'what', 'when', 'where', 'which', 'while', 'who', 'whom', 'why', 'will', 'with', 'won', \"won't\", 'wouldn', \"wouldn't\", 'y', 'you', \"you'd\", \"you'll\", 'your', \"you're\", 'yours', 'yourself', 'yourselves', \"you've\"]\n"
     ]
    }
   ],
   "source": [
    "#printing stopwords in english\n",
    "print(stopwords.words('english'))"
   ]
  },
  {
   "cell_type": "markdown",
   "id": "5f0dfef8",
   "metadata": {
    "id": "do0fVLZ1YtiH",
    "papermill": {
     "duration": 0.004698,
     "end_time": "2025-09-08T10:30:56.116416",
     "exception": false,
     "start_time": "2025-09-08T10:30:56.111718",
     "status": "completed"
    },
    "tags": []
   },
   "source": [
    "Data pre_processing"
   ]
  },
  {
   "cell_type": "code",
   "execution_count": 4,
   "id": "0952fd00",
   "metadata": {
    "execution": {
     "iopub.execute_input": "2025-09-08T10:30:56.126471Z",
     "iopub.status.busy": "2025-09-08T10:30:56.126295Z",
     "iopub.status.idle": "2025-09-08T10:30:58.882667Z",
     "shell.execute_reply": "2025-09-08T10:30:58.881756Z"
    },
    "id": "0pzpZHoFYloN",
    "outputId": "7c517696-b050-4d88-f4bc-26f045d5df14",
    "papermill": {
     "duration": 2.763167,
     "end_time": "2025-09-08T10:30:58.884248",
     "exception": false,
     "start_time": "2025-09-08T10:30:56.121081",
     "status": "completed"
    },
    "tags": []
   },
   "outputs": [],
   "source": [
    "# loading the dataset\n",
    "news_dataset = pd.read_csv('/kaggle/input/fake-news-data/Fake_news_detection.csv')"
   ]
  },
  {
   "cell_type": "code",
   "execution_count": 5,
   "id": "010a83db",
   "metadata": {
    "execution": {
     "iopub.execute_input": "2025-09-08T10:30:58.896132Z",
     "iopub.status.busy": "2025-09-08T10:30:58.895856Z",
     "iopub.status.idle": "2025-09-08T10:30:58.900568Z",
     "shell.execute_reply": "2025-09-08T10:30:58.899799Z"
    },
    "id": "9XYOK7xzY6Yx",
    "outputId": "c9fc4a99-31f4-40fc-fe51-d1c0ecd06f0c",
    "papermill": {
     "duration": 0.011458,
     "end_time": "2025-09-08T10:30:58.901579",
     "exception": false,
     "start_time": "2025-09-08T10:30:58.890121",
     "status": "completed"
    },
    "tags": []
   },
   "outputs": [
    {
     "data": {
      "text/plain": [
       "(20800, 5)"
      ]
     },
     "execution_count": 5,
     "metadata": {},
     "output_type": "execute_result"
    }
   ],
   "source": [
    "news_dataset.shape"
   ]
  },
  {
   "cell_type": "code",
   "execution_count": 6,
   "id": "74035c8d",
   "metadata": {
    "execution": {
     "iopub.execute_input": "2025-09-08T10:30:58.912269Z",
     "iopub.status.busy": "2025-09-08T10:30:58.911701Z",
     "iopub.status.idle": "2025-09-08T10:30:58.930471Z",
     "shell.execute_reply": "2025-09-08T10:30:58.929879Z"
    },
    "id": "52r63tsIZFdx",
    "outputId": "879f2dda-d0f3-4253-890b-60423d76fbb1",
    "papermill": {
     "duration": 0.025003,
     "end_time": "2025-09-08T10:30:58.931499",
     "exception": false,
     "start_time": "2025-09-08T10:30:58.906496",
     "status": "completed"
    },
    "tags": []
   },
   "outputs": [
    {
     "data": {
      "text/html": [
       "<div>\n",
       "<style scoped>\n",
       "    .dataframe tbody tr th:only-of-type {\n",
       "        vertical-align: middle;\n",
       "    }\n",
       "\n",
       "    .dataframe tbody tr th {\n",
       "        vertical-align: top;\n",
       "    }\n",
       "\n",
       "    .dataframe thead th {\n",
       "        text-align: right;\n",
       "    }\n",
       "</style>\n",
       "<table border=\"1\" class=\"dataframe\">\n",
       "  <thead>\n",
       "    <tr style=\"text-align: right;\">\n",
       "      <th></th>\n",
       "      <th>id</th>\n",
       "      <th>title</th>\n",
       "      <th>author</th>\n",
       "      <th>text</th>\n",
       "      <th>label</th>\n",
       "    </tr>\n",
       "  </thead>\n",
       "  <tbody>\n",
       "    <tr>\n",
       "      <th>0</th>\n",
       "      <td>0</td>\n",
       "      <td>House Dem Aide: We Didn’t Even See Comey’s Let...</td>\n",
       "      <td>Darrell Lucus</td>\n",
       "      <td>House Dem Aide: We Didn’t Even See Comey’s Let...</td>\n",
       "      <td>1</td>\n",
       "    </tr>\n",
       "    <tr>\n",
       "      <th>1</th>\n",
       "      <td>1</td>\n",
       "      <td>FLYNN: Hillary Clinton, Big Woman on Campus - ...</td>\n",
       "      <td>Daniel J. Flynn</td>\n",
       "      <td>Ever get the feeling your life circles the rou...</td>\n",
       "      <td>0</td>\n",
       "    </tr>\n",
       "    <tr>\n",
       "      <th>2</th>\n",
       "      <td>2</td>\n",
       "      <td>Why the Truth Might Get You Fired</td>\n",
       "      <td>Consortiumnews.com</td>\n",
       "      <td>Why the Truth Might Get You Fired October 29, ...</td>\n",
       "      <td>1</td>\n",
       "    </tr>\n",
       "    <tr>\n",
       "      <th>3</th>\n",
       "      <td>3</td>\n",
       "      <td>15 Civilians Killed In Single US Airstrike Hav...</td>\n",
       "      <td>Jessica Purkiss</td>\n",
       "      <td>Videos 15 Civilians Killed In Single US Airstr...</td>\n",
       "      <td>1</td>\n",
       "    </tr>\n",
       "    <tr>\n",
       "      <th>4</th>\n",
       "      <td>4</td>\n",
       "      <td>Iranian woman jailed for fictional unpublished...</td>\n",
       "      <td>Howard Portnoy</td>\n",
       "      <td>Print \\nAn Iranian woman has been sentenced to...</td>\n",
       "      <td>1</td>\n",
       "    </tr>\n",
       "  </tbody>\n",
       "</table>\n",
       "</div>"
      ],
      "text/plain": [
       "   id                                              title              author  \\\n",
       "0   0  House Dem Aide: We Didn’t Even See Comey’s Let...       Darrell Lucus   \n",
       "1   1  FLYNN: Hillary Clinton, Big Woman on Campus - ...     Daniel J. Flynn   \n",
       "2   2                  Why the Truth Might Get You Fired  Consortiumnews.com   \n",
       "3   3  15 Civilians Killed In Single US Airstrike Hav...     Jessica Purkiss   \n",
       "4   4  Iranian woman jailed for fictional unpublished...      Howard Portnoy   \n",
       "\n",
       "                                                text  label  \n",
       "0  House Dem Aide: We Didn’t Even See Comey’s Let...      1  \n",
       "1  Ever get the feeling your life circles the rou...      0  \n",
       "2  Why the Truth Might Get You Fired October 29, ...      1  \n",
       "3  Videos 15 Civilians Killed In Single US Airstr...      1  \n",
       "4  Print \\nAn Iranian woman has been sentenced to...      1  "
      ]
     },
     "execution_count": 6,
     "metadata": {},
     "output_type": "execute_result"
    }
   ],
   "source": [
    "news_dataset.head()"
   ]
  },
  {
   "cell_type": "code",
   "execution_count": 7,
   "id": "2b8de277",
   "metadata": {
    "execution": {
     "iopub.execute_input": "2025-09-08T10:30:58.943208Z",
     "iopub.status.busy": "2025-09-08T10:30:58.943005Z",
     "iopub.status.idle": "2025-09-08T10:30:58.951500Z",
     "shell.execute_reply": "2025-09-08T10:30:58.950853Z"
    },
    "id": "-DV4JjZNZcjs",
    "outputId": "d3d4a760-f673-4342-f307-0e9352dfad63",
    "papermill": {
     "duration": 0.015364,
     "end_time": "2025-09-08T10:30:58.952563",
     "exception": false,
     "start_time": "2025-09-08T10:30:58.937199",
     "status": "completed"
    },
    "tags": []
   },
   "outputs": [
    {
     "data": {
      "text/plain": [
       "id           0\n",
       "title      558\n",
       "author    1957\n",
       "text        39\n",
       "label        0\n",
       "dtype: int64"
      ]
     },
     "execution_count": 7,
     "metadata": {},
     "output_type": "execute_result"
    }
   ],
   "source": [
    "#counting the number of missing values in the dataset\n",
    "news_dataset.isnull().sum()"
   ]
  },
  {
   "cell_type": "code",
   "execution_count": 8,
   "id": "726ff5f1",
   "metadata": {
    "execution": {
     "iopub.execute_input": "2025-09-08T10:30:58.963709Z",
     "iopub.status.busy": "2025-09-08T10:30:58.963508Z",
     "iopub.status.idle": "2025-09-08T10:30:58.973431Z",
     "shell.execute_reply": "2025-09-08T10:30:58.972673Z"
    },
    "id": "_RL1f2kYZfw-",
    "papermill": {
     "duration": 0.016808,
     "end_time": "2025-09-08T10:30:58.974595",
     "exception": false,
     "start_time": "2025-09-08T10:30:58.957787",
     "status": "completed"
    },
    "tags": []
   },
   "outputs": [],
   "source": [
    "#replacing the null values with empty string\n",
    "news_dataset= news_dataset.fillna('')"
   ]
  },
  {
   "cell_type": "code",
   "execution_count": 9,
   "id": "9af601bd",
   "metadata": {
    "execution": {
     "iopub.execute_input": "2025-09-08T10:30:58.985512Z",
     "iopub.status.busy": "2025-09-08T10:30:58.985339Z",
     "iopub.status.idle": "2025-09-08T10:30:58.997457Z",
     "shell.execute_reply": "2025-09-08T10:30:58.996925Z"
    },
    "id": "QH1XSKrCZwHR",
    "papermill": {
     "duration": 0.018692,
     "end_time": "2025-09-08T10:30:58.998431",
     "exception": false,
     "start_time": "2025-09-08T10:30:58.979739",
     "status": "completed"
    },
    "tags": []
   },
   "outputs": [],
   "source": [
    "# merging the author name and nws title\n",
    "news_dataset['content']= news_dataset['author']+' '+news_dataset['title']"
   ]
  },
  {
   "cell_type": "code",
   "execution_count": 10,
   "id": "34c65032",
   "metadata": {
    "execution": {
     "iopub.execute_input": "2025-09-08T10:30:59.009367Z",
     "iopub.status.busy": "2025-09-08T10:30:59.009188Z",
     "iopub.status.idle": "2025-09-08T10:30:59.014528Z",
     "shell.execute_reply": "2025-09-08T10:30:59.013840Z"
    },
    "id": "7OGPoxlqaIho",
    "outputId": "7bff2eb5-caba-4fa8-e5f3-8e869e4e0ec0",
    "papermill": {
     "duration": 0.012238,
     "end_time": "2025-09-08T10:30:59.015730",
     "exception": false,
     "start_time": "2025-09-08T10:30:59.003492",
     "status": "completed"
    },
    "tags": []
   },
   "outputs": [
    {
     "data": {
      "text/plain": [
       "0        Darrell Lucus House Dem Aide: We Didn’t Even S...\n",
       "1        Daniel J. Flynn FLYNN: Hillary Clinton, Big Wo...\n",
       "2        Consortiumnews.com Why the Truth Might Get You...\n",
       "3        Jessica Purkiss 15 Civilians Killed In Single ...\n",
       "4        Howard Portnoy Iranian woman jailed for fictio...\n",
       "                               ...                        \n",
       "20795    Jerome Hudson Rapper T.I.: Trump a ’Poster Chi...\n",
       "20796    Benjamin Hoffman N.F.L. Playoffs: Schedule, Ma...\n",
       "20797    Michael J. de la Merced and Rachel Abrams Macy...\n",
       "20798    Alex Ansary NATO, Russia To Hold Parallel Exer...\n",
       "20799              David Swanson What Keeps the F-35 Alive\n",
       "Name: content, Length: 20800, dtype: object"
      ]
     },
     "execution_count": 10,
     "metadata": {},
     "output_type": "execute_result"
    }
   ],
   "source": [
    "news_dataset['content']"
   ]
  },
  {
   "cell_type": "code",
   "execution_count": 11,
   "id": "cd02b570",
   "metadata": {
    "execution": {
     "iopub.execute_input": "2025-09-08T10:30:59.027151Z",
     "iopub.status.busy": "2025-09-08T10:30:59.026726Z",
     "iopub.status.idle": "2025-09-08T10:30:59.036945Z",
     "shell.execute_reply": "2025-09-08T10:30:59.036377Z"
    },
    "id": "-kajpAiPaK7I",
    "papermill": {
     "duration": 0.016888,
     "end_time": "2025-09-08T10:30:59.038019",
     "exception": false,
     "start_time": "2025-09-08T10:30:59.021131",
     "status": "completed"
    },
    "tags": []
   },
   "outputs": [],
   "source": [
    "# seperating the data & label\n",
    "X= news_dataset.drop(columns= 'label', axis= 1)\n",
    "Y= news_dataset['label']"
   ]
  },
  {
   "cell_type": "code",
   "execution_count": 12,
   "id": "c01cfe60",
   "metadata": {
    "execution": {
     "iopub.execute_input": "2025-09-08T10:30:59.049608Z",
     "iopub.status.busy": "2025-09-08T10:30:59.049110Z",
     "iopub.status.idle": "2025-09-08T10:30:59.056100Z",
     "shell.execute_reply": "2025-09-08T10:30:59.055057Z"
    },
    "id": "sjLfy85ZanbN",
    "outputId": "63a558dd-4463-48e7-c863-07775e070e5e",
    "papermill": {
     "duration": 0.013904,
     "end_time": "2025-09-08T10:30:59.057205",
     "exception": false,
     "start_time": "2025-09-08T10:30:59.043301",
     "status": "completed"
    },
    "tags": []
   },
   "outputs": [
    {
     "name": "stdout",
     "output_type": "stream",
     "text": [
      "          id                                              title  \\\n",
      "0          0  House Dem Aide: We Didn’t Even See Comey’s Let...   \n",
      "1          1  FLYNN: Hillary Clinton, Big Woman on Campus - ...   \n",
      "2          2                  Why the Truth Might Get You Fired   \n",
      "3          3  15 Civilians Killed In Single US Airstrike Hav...   \n",
      "4          4  Iranian woman jailed for fictional unpublished...   \n",
      "...      ...                                                ...   \n",
      "20795  20795  Rapper T.I.: Trump a ’Poster Child For White S...   \n",
      "20796  20796  N.F.L. Playoffs: Schedule, Matchups and Odds -...   \n",
      "20797  20797  Macy’s Is Said to Receive Takeover Approach by...   \n",
      "20798  20798  NATO, Russia To Hold Parallel Exercises In Bal...   \n",
      "20799  20799                          What Keeps the F-35 Alive   \n",
      "\n",
      "                                          author  \\\n",
      "0                                  Darrell Lucus   \n",
      "1                                Daniel J. Flynn   \n",
      "2                             Consortiumnews.com   \n",
      "3                                Jessica Purkiss   \n",
      "4                                 Howard Portnoy   \n",
      "...                                          ...   \n",
      "20795                              Jerome Hudson   \n",
      "20796                           Benjamin Hoffman   \n",
      "20797  Michael J. de la Merced and Rachel Abrams   \n",
      "20798                                Alex Ansary   \n",
      "20799                              David Swanson   \n",
      "\n",
      "                                                    text  \\\n",
      "0      House Dem Aide: We Didn’t Even See Comey’s Let...   \n",
      "1      Ever get the feeling your life circles the rou...   \n",
      "2      Why the Truth Might Get You Fired October 29, ...   \n",
      "3      Videos 15 Civilians Killed In Single US Airstr...   \n",
      "4      Print \\nAn Iranian woman has been sentenced to...   \n",
      "...                                                  ...   \n",
      "20795  Rapper T. I. unloaded on black celebrities who...   \n",
      "20796  When the Green Bay Packers lost to the Washing...   \n",
      "20797  The Macy’s of today grew from the union of sev...   \n",
      "20798  NATO, Russia To Hold Parallel Exercises In Bal...   \n",
      "20799    David Swanson is an author, activist, journa...   \n",
      "\n",
      "                                                 content  \n",
      "0      Darrell Lucus House Dem Aide: We Didn’t Even S...  \n",
      "1      Daniel J. Flynn FLYNN: Hillary Clinton, Big Wo...  \n",
      "2      Consortiumnews.com Why the Truth Might Get You...  \n",
      "3      Jessica Purkiss 15 Civilians Killed In Single ...  \n",
      "4      Howard Portnoy Iranian woman jailed for fictio...  \n",
      "...                                                  ...  \n",
      "20795  Jerome Hudson Rapper T.I.: Trump a ’Poster Chi...  \n",
      "20796  Benjamin Hoffman N.F.L. Playoffs: Schedule, Ma...  \n",
      "20797  Michael J. de la Merced and Rachel Abrams Macy...  \n",
      "20798  Alex Ansary NATO, Russia To Hold Parallel Exer...  \n",
      "20799            David Swanson What Keeps the F-35 Alive  \n",
      "\n",
      "[20800 rows x 5 columns]\n",
      "0        1\n",
      "1        0\n",
      "2        1\n",
      "3        1\n",
      "4        1\n",
      "        ..\n",
      "20795    0\n",
      "20796    0\n",
      "20797    0\n",
      "20798    1\n",
      "20799    1\n",
      "Name: label, Length: 20800, dtype: int64\n"
     ]
    }
   ],
   "source": [
    "print(X)\n",
    "print(Y)"
   ]
  },
  {
   "cell_type": "markdown",
   "id": "4dc03891",
   "metadata": {
    "id": "PNgwpaaZa7r6",
    "papermill": {
     "duration": 0.005151,
     "end_time": "2025-09-08T10:30:59.067660",
     "exception": false,
     "start_time": "2025-09-08T10:30:59.062509",
     "status": "completed"
    },
    "tags": []
   },
   "source": [
    "Stemming"
   ]
  },
  {
   "cell_type": "code",
   "execution_count": 13,
   "id": "0fa680e5",
   "metadata": {
    "execution": {
     "iopub.execute_input": "2025-09-08T10:30:59.079299Z",
     "iopub.status.busy": "2025-09-08T10:30:59.078768Z",
     "iopub.status.idle": "2025-09-08T10:30:59.081915Z",
     "shell.execute_reply": "2025-09-08T10:30:59.081260Z"
    },
    "id": "QxYFlvSxaqoG",
    "papermill": {
     "duration": 0.010039,
     "end_time": "2025-09-08T10:30:59.083002",
     "exception": false,
     "start_time": "2025-09-08T10:30:59.072963",
     "status": "completed"
    },
    "tags": []
   },
   "outputs": [],
   "source": [
    "port_stem = PorterStemmer()"
   ]
  },
  {
   "cell_type": "code",
   "execution_count": 14,
   "id": "7b4f1333",
   "metadata": {
    "execution": {
     "iopub.execute_input": "2025-09-08T10:30:59.094207Z",
     "iopub.status.busy": "2025-09-08T10:30:59.093980Z",
     "iopub.status.idle": "2025-09-08T10:30:59.097715Z",
     "shell.execute_reply": "2025-09-08T10:30:59.097189Z"
    },
    "id": "a2bicwJ2deAi",
    "papermill": {
     "duration": 0.010511,
     "end_time": "2025-09-08T10:30:59.098822",
     "exception": false,
     "start_time": "2025-09-08T10:30:59.088311",
     "status": "completed"
    },
    "tags": []
   },
   "outputs": [],
   "source": [
    "def stemming(content):\n",
    "  stemmed_content= re.sub('[^a-zA-Z]',' ', content)\n",
    "  stemmed_content= stemmed_content.lower()\n",
    "  stemmed_content= stemmed_content.split()\n",
    "  stemmed_content= [port_stem.stem(word) for word in stemmed_content if not word in stopwords.words('english')]\n",
    "  stemmed_content= ' '.join(stemmed_content)\n",
    "  return stemmed_content"
   ]
  },
  {
   "cell_type": "code",
   "execution_count": 15,
   "id": "10e7dd69",
   "metadata": {
    "execution": {
     "iopub.execute_input": "2025-09-08T10:30:59.110052Z",
     "iopub.status.busy": "2025-09-08T10:30:59.109801Z",
     "iopub.status.idle": "2025-09-08T10:31:26.446994Z",
     "shell.execute_reply": "2025-09-08T10:31:26.446350Z"
    },
    "id": "obqgwae0fX5q",
    "papermill": {
     "duration": 27.344176,
     "end_time": "2025-09-08T10:31:26.448331",
     "exception": false,
     "start_time": "2025-09-08T10:30:59.104155",
     "status": "completed"
    },
    "tags": []
   },
   "outputs": [],
   "source": [
    "news_dataset['content']= news_dataset['content'].apply(stemming)"
   ]
  },
  {
   "cell_type": "code",
   "execution_count": 16,
   "id": "c6b8a7e0",
   "metadata": {
    "execution": {
     "iopub.execute_input": "2025-09-08T10:31:26.460392Z",
     "iopub.status.busy": "2025-09-08T10:31:26.460172Z",
     "iopub.status.idle": "2025-09-08T10:31:26.465023Z",
     "shell.execute_reply": "2025-09-08T10:31:26.464187Z"
    },
    "id": "POW6hLvBBbfS",
    "outputId": "f0e68f55-e1da-4b60-9330-d84a05847684",
    "papermill": {
     "duration": 0.012274,
     "end_time": "2025-09-08T10:31:26.466268",
     "exception": false,
     "start_time": "2025-09-08T10:31:26.453994",
     "status": "completed"
    },
    "tags": []
   },
   "outputs": [
    {
     "name": "stdout",
     "output_type": "stream",
     "text": [
      "0        darrel lucu hous dem aid even see comey letter...\n",
      "1        daniel j flynn flynn hillari clinton big woman...\n",
      "2                   consortiumnew com truth might get fire\n",
      "3        jessica purkiss civilian kill singl us airstri...\n",
      "4        howard portnoy iranian woman jail fiction unpu...\n",
      "                               ...                        \n",
      "20795    jerom hudson rapper trump poster child white s...\n",
      "20796    benjamin hoffman n f l playoff schedul matchup...\n",
      "20797    michael j de la merc rachel abram maci said re...\n",
      "20798    alex ansari nato russia hold parallel exercis ...\n",
      "20799                            david swanson keep f aliv\n",
      "Name: content, Length: 20800, dtype: object\n"
     ]
    }
   ],
   "source": [
    "print(news_dataset['content'])"
   ]
  },
  {
   "cell_type": "code",
   "execution_count": 17,
   "id": "c8113e16",
   "metadata": {
    "execution": {
     "iopub.execute_input": "2025-09-08T10:31:26.479386Z",
     "iopub.status.busy": "2025-09-08T10:31:26.479177Z",
     "iopub.status.idle": "2025-09-08T10:31:26.483764Z",
     "shell.execute_reply": "2025-09-08T10:31:26.483146Z"
    },
    "id": "FrTX1JPgB1w7",
    "papermill": {
     "duration": 0.012417,
     "end_time": "2025-09-08T10:31:26.484876",
     "exception": false,
     "start_time": "2025-09-08T10:31:26.472459",
     "status": "completed"
    },
    "tags": []
   },
   "outputs": [],
   "source": [
    "# seperating the data and label\n",
    "X= news_dataset['content'].values\n",
    "Y= news_dataset['label'].values"
   ]
  },
  {
   "cell_type": "code",
   "execution_count": 18,
   "id": "52b6503d",
   "metadata": {
    "execution": {
     "iopub.execute_input": "2025-09-08T10:31:26.496332Z",
     "iopub.status.busy": "2025-09-08T10:31:26.496129Z",
     "iopub.status.idle": "2025-09-08T10:31:26.500040Z",
     "shell.execute_reply": "2025-09-08T10:31:26.499258Z"
    },
    "id": "JkYHRXQhCetI",
    "outputId": "561f1a4d-ca19-4f51-a01a-1de8add7df76",
    "papermill": {
     "duration": 0.010749,
     "end_time": "2025-09-08T10:31:26.501064",
     "exception": false,
     "start_time": "2025-09-08T10:31:26.490315",
     "status": "completed"
    },
    "tags": []
   },
   "outputs": [
    {
     "name": "stdout",
     "output_type": "stream",
     "text": [
      "['darrel lucu hous dem aid even see comey letter jason chaffetz tweet'\n",
      " 'daniel j flynn flynn hillari clinton big woman campu breitbart'\n",
      " 'consortiumnew com truth might get fire' ...\n",
      " 'michael j de la merc rachel abram maci said receiv takeov approach hudson bay new york time'\n",
      " 'alex ansari nato russia hold parallel exercis balkan'\n",
      " 'david swanson keep f aliv']\n"
     ]
    }
   ],
   "source": [
    "print(X)"
   ]
  },
  {
   "cell_type": "code",
   "execution_count": 19,
   "id": "33af0b6a",
   "metadata": {
    "execution": {
     "iopub.execute_input": "2025-09-08T10:31:26.512378Z",
     "iopub.status.busy": "2025-09-08T10:31:26.512191Z",
     "iopub.status.idle": "2025-09-08T10:31:26.515943Z",
     "shell.execute_reply": "2025-09-08T10:31:26.515343Z"
    },
    "id": "SGxLCOi3Cgz0",
    "outputId": "8e8dd039-014d-4923-c10c-69961f77f6e7",
    "papermill": {
     "duration": 0.010759,
     "end_time": "2025-09-08T10:31:26.517197",
     "exception": false,
     "start_time": "2025-09-08T10:31:26.506438",
     "status": "completed"
    },
    "tags": []
   },
   "outputs": [
    {
     "name": "stdout",
     "output_type": "stream",
     "text": [
      "[1 0 1 ... 0 1 1]\n"
     ]
    }
   ],
   "source": [
    "print(Y)"
   ]
  },
  {
   "cell_type": "code",
   "execution_count": 20,
   "id": "53cdb6c4",
   "metadata": {
    "execution": {
     "iopub.execute_input": "2025-09-08T10:31:26.529093Z",
     "iopub.status.busy": "2025-09-08T10:31:26.528851Z",
     "iopub.status.idle": "2025-09-08T10:31:26.533115Z",
     "shell.execute_reply": "2025-09-08T10:31:26.532572Z"
    },
    "id": "JiMy3jKHEQ48",
    "outputId": "e76a62e0-9b06-4d2f-af8a-45b1fa06baa6",
    "papermill": {
     "duration": 0.011238,
     "end_time": "2025-09-08T10:31:26.534096",
     "exception": false,
     "start_time": "2025-09-08T10:31:26.522858",
     "status": "completed"
    },
    "tags": []
   },
   "outputs": [
    {
     "data": {
      "text/plain": [
       "(20800,)"
      ]
     },
     "execution_count": 20,
     "metadata": {},
     "output_type": "execute_result"
    }
   ],
   "source": [
    "Y.shape"
   ]
  },
  {
   "cell_type": "code",
   "execution_count": 21,
   "id": "ff04621f",
   "metadata": {
    "execution": {
     "iopub.execute_input": "2025-09-08T10:31:26.545605Z",
     "iopub.status.busy": "2025-09-08T10:31:26.545416Z",
     "iopub.status.idle": "2025-09-08T10:31:26.913358Z",
     "shell.execute_reply": "2025-09-08T10:31:26.912573Z"
    },
    "id": "Xk_-hrl8ESI-",
    "papermill": {
     "duration": 0.374996,
     "end_time": "2025-09-08T10:31:26.914675",
     "exception": false,
     "start_time": "2025-09-08T10:31:26.539679",
     "status": "completed"
    },
    "tags": []
   },
   "outputs": [],
   "source": [
    "# converting the textual data to numerical data\n",
    "vectorizer= TfidfVectorizer()\n",
    "vectorizer.fit(X)\n",
    "X= vectorizer.transform(X)"
   ]
  },
  {
   "cell_type": "code",
   "execution_count": 22,
   "id": "c7ef041c",
   "metadata": {
    "execution": {
     "iopub.execute_input": "2025-09-08T10:31:26.926765Z",
     "iopub.status.busy": "2025-09-08T10:31:26.926544Z",
     "iopub.status.idle": "2025-09-08T10:31:26.932349Z",
     "shell.execute_reply": "2025-09-08T10:31:26.931449Z"
    },
    "id": "RKGeeWNzEkbH",
    "outputId": "6d5ca281-17e4-49f8-f0c6-691e8d9298f0",
    "papermill": {
     "duration": 0.012799,
     "end_time": "2025-09-08T10:31:26.933387",
     "exception": false,
     "start_time": "2025-09-08T10:31:26.920588",
     "status": "completed"
    },
    "tags": []
   },
   "outputs": [
    {
     "name": "stdout",
     "output_type": "stream",
     "text": [
      "<Compressed Sparse Row sparse matrix of dtype 'float64'\n",
      "\twith 210687 stored elements and shape (20800, 17128)>\n",
      "  Coords\tValues\n",
      "  (0, 15686)\t0.28485063562728646\n",
      "  (0, 13473)\t0.2565896679337957\n",
      "  (0, 8909)\t0.3635963806326075\n",
      "  (0, 8630)\t0.29212514087043684\n",
      "  (0, 7692)\t0.24785219520671603\n",
      "  (0, 7005)\t0.21874169089359144\n",
      "  (0, 4973)\t0.233316966909351\n",
      "  (0, 3792)\t0.2705332480845492\n",
      "  (0, 3600)\t0.3598939188262559\n",
      "  (0, 2959)\t0.2468450128533713\n",
      "  (0, 2483)\t0.3676519686797209\n",
      "  (0, 267)\t0.27010124977708766\n",
      "  (1, 16799)\t0.30071745655510157\n",
      "  (1, 6816)\t0.1904660198296849\n",
      "  (1, 5503)\t0.7143299355715573\n",
      "  (1, 3568)\t0.26373768806048464\n",
      "  (1, 2813)\t0.19094574062359204\n",
      "  (1, 2223)\t0.3827320386859759\n",
      "  (1, 1894)\t0.15521974226349364\n",
      "  (1, 1497)\t0.2939891562094648\n",
      "  (2, 15611)\t0.41544962664721613\n",
      "  (2, 9620)\t0.49351492943649944\n",
      "  (2, 5968)\t0.3474613386728292\n",
      "  (2, 5389)\t0.3866530551182615\n",
      "  (2, 3103)\t0.46097489583229645\n",
      "  :\t:\n",
      "  (20797, 13122)\t0.2482526352197606\n",
      "  (20797, 12344)\t0.27263457663336677\n",
      "  (20797, 12138)\t0.24778257724396507\n",
      "  (20797, 10306)\t0.08038079000566466\n",
      "  (20797, 9588)\t0.174553480255222\n",
      "  (20797, 9518)\t0.2954204003420313\n",
      "  (20797, 8988)\t0.36160868928090795\n",
      "  (20797, 8364)\t0.22322585870464118\n",
      "  (20797, 7042)\t0.21799048897828688\n",
      "  (20797, 3643)\t0.21155500613623743\n",
      "  (20797, 1287)\t0.33538056804139865\n",
      "  (20797, 699)\t0.30685846079762347\n",
      "  (20797, 43)\t0.29710241860700626\n",
      "  (20798, 13046)\t0.22363267488270608\n",
      "  (20798, 11052)\t0.4460515589182236\n",
      "  (20798, 10177)\t0.3192496370187028\n",
      "  (20798, 6889)\t0.32496285694299426\n",
      "  (20798, 5032)\t0.4083701450239529\n",
      "  (20798, 1125)\t0.4460515589182236\n",
      "  (20798, 588)\t0.3112141524638974\n",
      "  (20798, 350)\t0.28446937819072576\n",
      "  (20799, 14852)\t0.5677577267055112\n",
      "  (20799, 8036)\t0.45983893273780013\n",
      "  (20799, 3623)\t0.37927626273066584\n",
      "  (20799, 377)\t0.5677577267055112\n"
     ]
    }
   ],
   "source": [
    "print(X)"
   ]
  },
  {
   "cell_type": "markdown",
   "id": "92bf66da",
   "metadata": {
    "id": "Mz_ZuUWQFxr6",
    "papermill": {
     "duration": 0.005387,
     "end_time": "2025-09-08T10:31:26.944678",
     "exception": false,
     "start_time": "2025-09-08T10:31:26.939291",
     "status": "completed"
    },
    "tags": []
   },
   "source": [
    "Spliting dataset to training and test data"
   ]
  },
  {
   "cell_type": "code",
   "execution_count": 23,
   "id": "c2c833e0",
   "metadata": {
    "execution": {
     "iopub.execute_input": "2025-09-08T10:31:26.956642Z",
     "iopub.status.busy": "2025-09-08T10:31:26.956434Z",
     "iopub.status.idle": "2025-09-08T10:31:26.975530Z",
     "shell.execute_reply": "2025-09-08T10:31:26.975012Z"
    },
    "id": "qSjUIB3CFrOa",
    "papermill": {
     "duration": 0.02616,
     "end_time": "2025-09-08T10:31:26.976577",
     "exception": false,
     "start_time": "2025-09-08T10:31:26.950417",
     "status": "completed"
    },
    "tags": []
   },
   "outputs": [],
   "source": [
    "X_train, X_test, Y_train, Y_test= train_test_split(X, Y, test_size= 0.2, stratify= Y, random_state=2)"
   ]
  },
  {
   "cell_type": "markdown",
   "id": "76440cc4",
   "metadata": {
    "id": "BlxA5B_WGWX8",
    "papermill": {
     "duration": 0.005316,
     "end_time": "2025-09-08T10:31:26.987439",
     "exception": false,
     "start_time": "2025-09-08T10:31:26.982123",
     "status": "completed"
    },
    "tags": []
   },
   "source": [
    "Training"
   ]
  },
  {
   "cell_type": "code",
   "execution_count": 24,
   "id": "08bea659",
   "metadata": {
    "execution": {
     "iopub.execute_input": "2025-09-08T10:31:26.999496Z",
     "iopub.status.busy": "2025-09-08T10:31:26.998904Z",
     "iopub.status.idle": "2025-09-08T10:31:27.002134Z",
     "shell.execute_reply": "2025-09-08T10:31:27.001629Z"
    },
    "id": "jxHRfji3GBny",
    "papermill": {
     "duration": 0.010277,
     "end_time": "2025-09-08T10:31:27.003215",
     "exception": false,
     "start_time": "2025-09-08T10:31:26.992938",
     "status": "completed"
    },
    "tags": []
   },
   "outputs": [],
   "source": [
    "model = LogisticRegression()"
   ]
  },
  {
   "cell_type": "code",
   "execution_count": 25,
   "id": "c74bbda5",
   "metadata": {
    "execution": {
     "iopub.execute_input": "2025-09-08T10:31:27.015340Z",
     "iopub.status.busy": "2025-09-08T10:31:27.014937Z",
     "iopub.status.idle": "2025-09-08T10:31:27.521010Z",
     "shell.execute_reply": "2025-09-08T10:31:27.517779Z"
    },
    "id": "3rIf1aCZKSgB",
    "outputId": "9a6fac01-ff58-4c64-b634-53f5c3b7bfaf",
    "papermill": {
     "duration": 0.514287,
     "end_time": "2025-09-08T10:31:27.523218",
     "exception": false,
     "start_time": "2025-09-08T10:31:27.008931",
     "status": "completed"
    },
    "tags": []
   },
   "outputs": [
    {
     "data": {
      "text/html": [
       "<style>#sk-container-id-1 {color: black;background-color: white;}#sk-container-id-1 pre{padding: 0;}#sk-container-id-1 div.sk-toggleable {background-color: white;}#sk-container-id-1 label.sk-toggleable__label {cursor: pointer;display: block;width: 100%;margin-bottom: 0;padding: 0.3em;box-sizing: border-box;text-align: center;}#sk-container-id-1 label.sk-toggleable__label-arrow:before {content: \"▸\";float: left;margin-right: 0.25em;color: #696969;}#sk-container-id-1 label.sk-toggleable__label-arrow:hover:before {color: black;}#sk-container-id-1 div.sk-estimator:hover label.sk-toggleable__label-arrow:before {color: black;}#sk-container-id-1 div.sk-toggleable__content {max-height: 0;max-width: 0;overflow: hidden;text-align: left;background-color: #f0f8ff;}#sk-container-id-1 div.sk-toggleable__content pre {margin: 0.2em;color: black;border-radius: 0.25em;background-color: #f0f8ff;}#sk-container-id-1 input.sk-toggleable__control:checked~div.sk-toggleable__content {max-height: 200px;max-width: 100%;overflow: auto;}#sk-container-id-1 input.sk-toggleable__control:checked~label.sk-toggleable__label-arrow:before {content: \"▾\";}#sk-container-id-1 div.sk-estimator input.sk-toggleable__control:checked~label.sk-toggleable__label {background-color: #d4ebff;}#sk-container-id-1 div.sk-label input.sk-toggleable__control:checked~label.sk-toggleable__label {background-color: #d4ebff;}#sk-container-id-1 input.sk-hidden--visually {border: 0;clip: rect(1px 1px 1px 1px);clip: rect(1px, 1px, 1px, 1px);height: 1px;margin: -1px;overflow: hidden;padding: 0;position: absolute;width: 1px;}#sk-container-id-1 div.sk-estimator {font-family: monospace;background-color: #f0f8ff;border: 1px dotted black;border-radius: 0.25em;box-sizing: border-box;margin-bottom: 0.5em;}#sk-container-id-1 div.sk-estimator:hover {background-color: #d4ebff;}#sk-container-id-1 div.sk-parallel-item::after {content: \"\";width: 100%;border-bottom: 1px solid gray;flex-grow: 1;}#sk-container-id-1 div.sk-label:hover label.sk-toggleable__label {background-color: #d4ebff;}#sk-container-id-1 div.sk-serial::before {content: \"\";position: absolute;border-left: 1px solid gray;box-sizing: border-box;top: 0;bottom: 0;left: 50%;z-index: 0;}#sk-container-id-1 div.sk-serial {display: flex;flex-direction: column;align-items: center;background-color: white;padding-right: 0.2em;padding-left: 0.2em;position: relative;}#sk-container-id-1 div.sk-item {position: relative;z-index: 1;}#sk-container-id-1 div.sk-parallel {display: flex;align-items: stretch;justify-content: center;background-color: white;position: relative;}#sk-container-id-1 div.sk-item::before, #sk-container-id-1 div.sk-parallel-item::before {content: \"\";position: absolute;border-left: 1px solid gray;box-sizing: border-box;top: 0;bottom: 0;left: 50%;z-index: -1;}#sk-container-id-1 div.sk-parallel-item {display: flex;flex-direction: column;z-index: 1;position: relative;background-color: white;}#sk-container-id-1 div.sk-parallel-item:first-child::after {align-self: flex-end;width: 50%;}#sk-container-id-1 div.sk-parallel-item:last-child::after {align-self: flex-start;width: 50%;}#sk-container-id-1 div.sk-parallel-item:only-child::after {width: 0;}#sk-container-id-1 div.sk-dashed-wrapped {border: 1px dashed gray;margin: 0 0.4em 0.5em 0.4em;box-sizing: border-box;padding-bottom: 0.4em;background-color: white;}#sk-container-id-1 div.sk-label label {font-family: monospace;font-weight: bold;display: inline-block;line-height: 1.2em;}#sk-container-id-1 div.sk-label-container {text-align: center;}#sk-container-id-1 div.sk-container {/* jupyter's `normalize.less` sets `[hidden] { display: none; }` but bootstrap.min.css set `[hidden] { display: none !important; }` so we also need the `!important` here to be able to override the default hidden behavior on the sphinx rendered scikit-learn.org. See: https://github.com/scikit-learn/scikit-learn/issues/21755 */display: inline-block !important;position: relative;}#sk-container-id-1 div.sk-text-repr-fallback {display: none;}</style><div id=\"sk-container-id-1\" class=\"sk-top-container\"><div class=\"sk-text-repr-fallback\"><pre>LogisticRegression()</pre><b>In a Jupyter environment, please rerun this cell to show the HTML representation or trust the notebook. <br />On GitHub, the HTML representation is unable to render, please try loading this page with nbviewer.org.</b></div><div class=\"sk-container\" hidden><div class=\"sk-item\"><div class=\"sk-estimator sk-toggleable\"><input class=\"sk-toggleable__control sk-hidden--visually\" id=\"sk-estimator-id-1\" type=\"checkbox\" checked><label for=\"sk-estimator-id-1\" class=\"sk-toggleable__label sk-toggleable__label-arrow\">LogisticRegression</label><div class=\"sk-toggleable__content\"><pre>LogisticRegression()</pre></div></div></div></div></div>"
      ],
      "text/plain": [
       "LogisticRegression()"
      ]
     },
     "execution_count": 25,
     "metadata": {},
     "output_type": "execute_result"
    }
   ],
   "source": [
    "model.fit(X_train, Y_train)"
   ]
  },
  {
   "cell_type": "markdown",
   "id": "ed03cd45",
   "metadata": {
    "id": "sUfpIggAKfYW",
    "papermill": {
     "duration": 0.009618,
     "end_time": "2025-09-08T10:31:27.542879",
     "exception": false,
     "start_time": "2025-09-08T10:31:27.533261",
     "status": "completed"
    },
    "tags": []
   },
   "source": [
    "Evaluation"
   ]
  },
  {
   "cell_type": "code",
   "execution_count": 26,
   "id": "4259bb8a",
   "metadata": {
    "execution": {
     "iopub.execute_input": "2025-09-08T10:31:27.615879Z",
     "iopub.status.busy": "2025-09-08T10:31:27.615576Z",
     "iopub.status.idle": "2025-09-08T10:31:27.623624Z",
     "shell.execute_reply": "2025-09-08T10:31:27.623027Z"
    },
    "id": "2FPXpYkoKZge",
    "papermill": {
     "duration": 0.020298,
     "end_time": "2025-09-08T10:31:27.625030",
     "exception": false,
     "start_time": "2025-09-08T10:31:27.604732",
     "status": "completed"
    },
    "tags": []
   },
   "outputs": [],
   "source": [
    "#  accuracy score on the training data\n",
    "X_train_prediction= model.predict(X_train)\n",
    "training_data_accuracy= accuracy_score(X_train_prediction, Y_train)"
   ]
  },
  {
   "cell_type": "code",
   "execution_count": 27,
   "id": "21bbe560",
   "metadata": {
    "execution": {
     "iopub.execute_input": "2025-09-08T10:31:27.640913Z",
     "iopub.status.busy": "2025-09-08T10:31:27.640732Z",
     "iopub.status.idle": "2025-09-08T10:31:27.644124Z",
     "shell.execute_reply": "2025-09-08T10:31:27.643266Z"
    },
    "id": "nlmjalYqK84f",
    "outputId": "14a1830f-2a45-4cf8-b650-5d31a6365453",
    "papermill": {
     "duration": 0.011216,
     "end_time": "2025-09-08T10:31:27.645216",
     "exception": false,
     "start_time": "2025-09-08T10:31:27.634000",
     "status": "completed"
    },
    "tags": []
   },
   "outputs": [
    {
     "name": "stdout",
     "output_type": "stream",
     "text": [
      "accuracy score of training data:  0.9865985576923076\n"
     ]
    }
   ],
   "source": [
    "print(\"accuracy score of training data: \", training_data_accuracy)"
   ]
  },
  {
   "cell_type": "code",
   "execution_count": 28,
   "id": "68ec436a",
   "metadata": {
    "execution": {
     "iopub.execute_input": "2025-09-08T10:31:27.657220Z",
     "iopub.status.busy": "2025-09-08T10:31:27.657018Z",
     "iopub.status.idle": "2025-09-08T10:31:27.660755Z",
     "shell.execute_reply": "2025-09-08T10:31:27.660264Z"
    },
    "id": "pyMwdsyQLBYP",
    "papermill": {
     "duration": 0.010831,
     "end_time": "2025-09-08T10:31:27.661763",
     "exception": false,
     "start_time": "2025-09-08T10:31:27.650932",
     "status": "completed"
    },
    "tags": []
   },
   "outputs": [],
   "source": [
    "#  accuracy score on the test data\n",
    "X_test_prediction= model.predict(X_test)\n",
    "test_data_accuracy= accuracy_score(X_test_prediction, Y_test)"
   ]
  },
  {
   "cell_type": "code",
   "execution_count": 29,
   "id": "b529eba3",
   "metadata": {
    "execution": {
     "iopub.execute_input": "2025-09-08T10:31:27.673840Z",
     "iopub.status.busy": "2025-09-08T10:31:27.673633Z",
     "iopub.status.idle": "2025-09-08T10:31:27.677204Z",
     "shell.execute_reply": "2025-09-08T10:31:27.676611Z"
    },
    "id": "AAiL-83gLcSU",
    "outputId": "c41b1a1a-63e6-496f-90c2-296ff95cf033",
    "papermill": {
     "duration": 0.010724,
     "end_time": "2025-09-08T10:31:27.678278",
     "exception": false,
     "start_time": "2025-09-08T10:31:27.667554",
     "status": "completed"
    },
    "tags": []
   },
   "outputs": [
    {
     "name": "stdout",
     "output_type": "stream",
     "text": [
      "accuracy score of test data:  0.9790865384615385\n"
     ]
    }
   ],
   "source": [
    "print(\"accuracy score of test data: \", test_data_accuracy)"
   ]
  },
  {
   "cell_type": "markdown",
   "id": "0f8448d8",
   "metadata": {
    "id": "rVXRf73ILigQ",
    "papermill": {
     "duration": 0.005613,
     "end_time": "2025-09-08T10:31:27.689725",
     "exception": false,
     "start_time": "2025-09-08T10:31:27.684112",
     "status": "completed"
    },
    "tags": []
   },
   "source": [
    "Making a predictive system"
   ]
  },
  {
   "cell_type": "code",
   "execution_count": 30,
   "id": "058a22ab",
   "metadata": {
    "execution": {
     "iopub.execute_input": "2025-09-08T10:31:27.702386Z",
     "iopub.status.busy": "2025-09-08T10:31:27.701790Z",
     "iopub.status.idle": "2025-09-08T10:31:27.708129Z",
     "shell.execute_reply": "2025-09-08T10:31:27.707336Z"
    },
    "id": "vkL45rgYLhIE",
    "outputId": "99d55a85-4a4d-4a16-c0ac-b8e290e3cb0d",
    "papermill": {
     "duration": 0.014042,
     "end_time": "2025-09-08T10:31:27.709374",
     "exception": false,
     "start_time": "2025-09-08T10:31:27.695332",
     "status": "completed"
    },
    "tags": []
   },
   "outputs": [
    {
     "name": "stdout",
     "output_type": "stream",
     "text": [
      "[0]\n",
      "News is real\n"
     ]
    }
   ],
   "source": [
    "# random selection from the test dataset\n",
    "X_new= X_test[3]\n",
    "\n",
    "prediction= model.predict(X_new)\n",
    "print(prediction)\n",
    "\n",
    "if(prediction[0]==0):\n",
    "  print('News is real')\n",
    "else:\n",
    "  print('News is fake')"
   ]
  },
  {
   "cell_type": "code",
   "execution_count": null,
   "id": "d714a52b",
   "metadata": {
    "papermill": {
     "duration": 0.005792,
     "end_time": "2025-09-08T10:31:27.721160",
     "exception": false,
     "start_time": "2025-09-08T10:31:27.715368",
     "status": "completed"
    },
    "tags": []
   },
   "outputs": [],
   "source": []
  }
 ],
 "metadata": {
  "accelerator": "GPU",
  "colab": {
   "gpuType": "T4",
   "provenance": []
  },
  "kaggle": {
   "accelerator": "nvidiaTeslaT4",
   "dataSources": [
    {
     "datasetId": 8225407,
     "sourceId": 12994694,
     "sourceType": "datasetVersion"
    }
   ],
   "isGpuEnabled": true,
   "isInternetEnabled": true,
   "language": "python",
   "sourceType": "notebook"
  },
  "kernelspec": {
   "display_name": "Python 3",
   "language": "python",
   "name": "python3"
  },
  "language_info": {
   "codemirror_mode": {
    "name": "ipython",
    "version": 3
   },
   "file_extension": ".py",
   "mimetype": "text/x-python",
   "name": "python",
   "nbconvert_exporter": "python",
   "pygments_lexer": "ipython3",
   "version": "3.11.13"
  },
  "papermill": {
   "default_parameters": {},
   "duration": 39.430189,
   "end_time": "2025-09-08T10:31:28.243698",
   "environment_variables": {},
   "exception": null,
   "input_path": "__notebook__.ipynb",
   "output_path": "__notebook__.ipynb",
   "parameters": {},
   "start_time": "2025-09-08T10:30:48.813509",
   "version": "2.6.0"
  }
 },
 "nbformat": 4,
 "nbformat_minor": 5
}
